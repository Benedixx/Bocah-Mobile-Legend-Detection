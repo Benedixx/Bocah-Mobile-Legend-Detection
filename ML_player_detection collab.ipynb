{
  "cells": [
    {
      "cell_type": "code",
      "execution_count": null,
      "metadata": {
        "id": "VefVoTZ2hii6"
      },
      "outputs": [],
      "source": [
        "import io\n",
        "import csv\n",
        "import tensorflow as tf\n",
        "import numpy as np\n",
        "from tensorflow.keras.preprocessing.text import Tokenizer\n",
        "from tensorflow.keras.preprocessing.sequence import pad_sequences\n",
        "import matplotlib.pyplot as plt"
      ]
    },
    {
      "cell_type": "code",
      "source": [
        "!gdown 1i69ONNTpJ8vadzH0phnoT--6cGsSmWr2"
      ],
      "metadata": {
        "colab": {
          "base_uri": "https://localhost:8080/"
        },
        "id": "eQVCfLsEi5zl",
        "outputId": "17d6343c-14d5-4b58-907f-71292b5d9d2b"
      },
      "execution_count": null,
      "outputs": [
        {
          "output_type": "stream",
          "name": "stdout",
          "text": [
            "Downloading...\n",
            "From: https://drive.google.com/uc?id=1i69ONNTpJ8vadzH0phnoT--6cGsSmWr2\n",
            "To: /content/dataset.csv\n",
            "\r  0% 0.00/21.2k [00:00<?, ?B/s]\r100% 21.2k/21.2k [00:00<00:00, 61.4MB/s]\n"
          ]
        }
      ]
    },
    {
      "cell_type": "code",
      "execution_count": null,
      "metadata": {
        "colab": {
          "base_uri": "https://localhost:8080/"
        },
        "id": "TvFLradIhii7",
        "outputId": "ae44020b-aebb-4c1d-a75d-fb84f1ff62bd"
      },
      "outputs": [
        {
          "output_type": "stream",
          "name": "stdout",
          "text": [
            "First line (header) looks like this:\n",
            "\n",
            "﻿Target,Comment\n",
            "\n",
            "Each data point looks like this:\n",
            "\n",
            "0,Tetap bang nabubuy bakal ngantongin SMG\n",
            "\n"
          ]
        }
      ],
      "source": [
        "with open(\"./dataset.csv\", 'r') as csvfile:\n",
        "    print(f\"First line (header) looks like this:\\n\\n{csvfile.readline()}\")\n",
        "    print(f\"Each data point looks like this:\\n\\n{csvfile.readline()}\")"
      ]
    },
    {
      "cell_type": "code",
      "execution_count": null,
      "metadata": {
        "id": "mU83DdAKhii8"
      },
      "outputs": [],
      "source": [
        "NUM_WORDS = 1000\n",
        "EMBEDDING_DIM = 16\n",
        "MAXLEN = 120\n",
        "PADDING = 'post'\n",
        "OOV_TOKEN = \"<OOV>\"\n",
        "TRAINING_SPLIT = .8"
      ]
    },
    {
      "cell_type": "code",
      "source": [
        "pip install nltk"
      ],
      "metadata": {
        "colab": {
          "base_uri": "https://localhost:8080/"
        },
        "id": "FuG0E4jaICWw",
        "outputId": "d2a625d6-9e3c-4133-c20b-b4a36d7d87ce"
      },
      "execution_count": null,
      "outputs": [
        {
          "output_type": "stream",
          "name": "stdout",
          "text": [
            "Requirement already satisfied: nltk in /usr/local/lib/python3.10/dist-packages (3.8.1)\n",
            "Requirement already satisfied: click in /usr/local/lib/python3.10/dist-packages (from nltk) (8.1.7)\n",
            "Requirement already satisfied: joblib in /usr/local/lib/python3.10/dist-packages (from nltk) (1.3.2)\n",
            "Requirement already satisfied: regex>=2021.8.3 in /usr/local/lib/python3.10/dist-packages (from nltk) (2023.6.3)\n",
            "Requirement already satisfied: tqdm in /usr/local/lib/python3.10/dist-packages (from nltk) (4.66.1)\n"
          ]
        }
      ]
    },
    {
      "cell_type": "code",
      "execution_count": null,
      "metadata": {
        "id": "C_Y6CpWihii8"
      },
      "outputs": [],
      "source": [
        "import nltk\n",
        "from nltk.corpus import stopwords\n",
        "\n",
        "def remove_stopwords(text):\n",
        "\tstop_words = stopwords.words('indonesian')\n",
        "\n",
        "\timp_words = []\n",
        "\n",
        "\tfor word in str(text).split():\n",
        "\t\tword = word.lower()\n",
        "\n",
        "\t\tif word not in stop_words:\n",
        "\t\t\timp_words.append(word)\n",
        "\n",
        "\toutput = \" \".join(imp_words)\n",
        "\n",
        "\treturn output"
      ]
    },
    {
      "cell_type": "code",
      "execution_count": null,
      "metadata": {
        "id": "ny1FmXJwhii9"
      },
      "outputs": [],
      "source": [
        "def parse_data_from_file(filename):\n",
        "    sentences = []\n",
        "    labels = []\n",
        "    with open(filename, 'r') as csvfile:\n",
        "        reader = csv.reader(csvfile, delimiter=',')\n",
        "        next(reader)\n",
        "        for row in reader:\n",
        "            labels.append(row[0])\n",
        "            sentence = row[1]\n",
        "            sentence = remove_stopwords(sentence)\n",
        "            sentences.append(sentence)\n",
        "\n",
        "    return sentences, labels"
      ]
    },
    {
      "cell_type": "code",
      "execution_count": null,
      "metadata": {
        "id": "ag4sKtezhii9",
        "outputId": "405a3f62-b7d5-4b31-c798-c5859b5e1d59",
        "colab": {
          "base_uri": "https://localhost:8080/"
        }
      },
      "outputs": [
        {
          "output_type": "stream",
          "name": "stderr",
          "text": [
            "[nltk_data] Downloading package stopwords to /root/nltk_data...\n",
            "[nltk_data]   Unzipping corpora/stopwords.zip.\n"
          ]
        },
        {
          "output_type": "stream",
          "name": "stdout",
          "text": [
            "There are 579 sentences in the dataset.\n",
            "\n",
            "First sentence has 4 words (after removing stopwords).\n",
            "\n",
            "There are 579 labels in the dataset.\n",
            "\n",
            "The first 5 labels are ['0', '1', '0', '1', '1']\n"
          ]
        }
      ],
      "source": [
        "nltk.download('stopwords')\n",
        "sentences, labels = parse_data_from_file(\"./dataset.csv\")\n",
        "\n",
        "print(f\"There are {len(sentences)} sentences in the dataset.\\n\")\n",
        "print(f\"First sentence has {len(sentences[0].split())} words (after removing stopwords).\\n\")\n",
        "print(f\"There are {len(labels)} labels in the dataset.\\n\")\n",
        "print(f\"The first 5 labels are {labels[:5]}\")"
      ]
    },
    {
      "cell_type": "code",
      "execution_count": null,
      "metadata": {
        "id": "q-QXen4Zhii9"
      },
      "outputs": [],
      "source": [
        "def train_val_split(sentences, labels, training_split):\n",
        "    train_size = int(len(sentences) * training_split)\n",
        "\n",
        "    train_sentences = sentences[:train_size]\n",
        "    train_labels = labels[:train_size]\n",
        "\n",
        "    validation_sentences = sentences[train_size:]\n",
        "    validation_labels = labels[train_size:]\n",
        "\n",
        "    return train_sentences, validation_sentences, train_labels, validation_labels"
      ]
    },
    {
      "cell_type": "code",
      "execution_count": null,
      "metadata": {
        "id": "ckL6Pf8rhii-",
        "outputId": "44c1d9f0-d1a1-463d-c642-56768e128ca2",
        "colab": {
          "base_uri": "https://localhost:8080/"
        }
      },
      "outputs": [
        {
          "output_type": "stream",
          "name": "stdout",
          "text": [
            "There are 463 sentences for training.\n",
            "\n",
            "There are 463 labels for training.\n",
            "\n",
            "There are 116 sentences for validation.\n",
            "\n",
            "There are 116 labels for validation.\n"
          ]
        }
      ],
      "source": [
        "train_sentences, val_sentences, train_labels, val_labels = train_val_split(sentences, labels, TRAINING_SPLIT)\n",
        "\n",
        "print(f\"There are {len(train_sentences)} sentences for training.\\n\")\n",
        "print(f\"There are {len(train_labels)} labels for training.\\n\")\n",
        "print(f\"There are {len(val_sentences)} sentences for validation.\\n\")\n",
        "print(f\"There are {len(val_labels)} labels for validation.\")"
      ]
    },
    {
      "cell_type": "code",
      "execution_count": null,
      "metadata": {
        "id": "sVUoFVoHhii-"
      },
      "outputs": [],
      "source": [
        "def fit_tokenizer(train_sentences, num_words, oov_token):\n",
        "\n",
        "    tokenizer = Tokenizer(num_words = num_words, oov_token = oov_token )\n",
        "\n",
        "    tokenizer.fit_on_texts(train_sentences)\n",
        "\n",
        "\n",
        "    return tokenizer"
      ]
    },
    {
      "cell_type": "code",
      "execution_count": null,
      "metadata": {
        "id": "JyFzHGdVhii_",
        "outputId": "028ab20e-6dcc-4607-b0bc-f027725a61ce",
        "colab": {
          "base_uri": "https://localhost:8080/"
        }
      },
      "outputs": [
        {
          "output_type": "stream",
          "name": "stdout",
          "text": [
            "Vocabulary contains 948 words\n",
            "\n",
            "<OOV> token included in vocabulary\n"
          ]
        }
      ],
      "source": [
        "tokenizer = fit_tokenizer(train_sentences, NUM_WORDS, OOV_TOKEN)\n",
        "word_index = tokenizer.word_index\n",
        "\n",
        "print(f\"Vocabulary contains {len(word_index)} words\\n\")\n",
        "print(\"<OOV> token included in vocabulary\" if \"<OOV>\" in word_index else \"<OOV> token NOT included in vocabulary\")"
      ]
    },
    {
      "cell_type": "code",
      "execution_count": null,
      "metadata": {
        "id": "r355aze_hii_"
      },
      "outputs": [],
      "source": [
        "def seq_and_pad(sentences, tokenizer, padding, maxlen):\n",
        "    sequences = tokenizer.texts_to_sequences(sentences)\n",
        "    padded_sequences = pad_sequences(sequences, padding = padding,maxlen = maxlen)\n",
        "    return padded_sequences"
      ]
    },
    {
      "cell_type": "code",
      "execution_count": null,
      "metadata": {
        "id": "FH8Zfl9Hhii_",
        "outputId": "c2c691b5-67ad-4d3d-ae39-d7bec665caf7",
        "colab": {
          "base_uri": "https://localhost:8080/"
        }
      },
      "outputs": [
        {
          "output_type": "stream",
          "name": "stdout",
          "text": [
            "Padded training sequences have shape: (463, 120)\n",
            "\n",
            "Padded validation sequences have shape: (116, 120)\n"
          ]
        }
      ],
      "source": [
        "train_padded_seq = seq_and_pad(train_sentences, tokenizer, PADDING, MAXLEN)\n",
        "val_padded_seq = seq_and_pad(val_sentences, tokenizer, PADDING, MAXLEN)\n",
        "\n",
        "print(f\"Padded training sequences have shape: {train_padded_seq.shape}\\n\")\n",
        "print(f\"Padded validation sequences have shape: {val_padded_seq.shape}\")"
      ]
    },
    {
      "cell_type": "code",
      "execution_count": null,
      "metadata": {
        "id": "uS8Tl_Wohii_"
      },
      "outputs": [],
      "source": [
        "def tokenize_labels(all_labels, split_labels):\n",
        "    sentences = []\n",
        "    for t in split_labels:\n",
        "        if t in all_labels:\n",
        "            sentences.append(t)\n",
        "\n",
        "    label_tokenizer = Tokenizer()\n",
        "\n",
        "    label_tokenizer.fit_on_texts(all_labels)\n",
        "\n",
        "    label_seq = np.array(label_tokenizer.texts_to_sequences(split_labels))\n",
        "    validation_label_seq = np.array(label_tokenizer.texts_to_sequences(split_labels))\n",
        "\n",
        "    label_seq_np =np.array([number - 1 for number in label_seq])\n",
        "\n",
        "\n",
        "    return label_seq_np"
      ]
    },
    {
      "cell_type": "code",
      "execution_count": null,
      "metadata": {
        "id": "oLKkNeqnhijA",
        "outputId": "b5e81866-cfe1-408d-e729-57f1dbe36d5e",
        "colab": {
          "base_uri": "https://localhost:8080/"
        }
      },
      "outputs": [
        {
          "output_type": "stream",
          "name": "stdout",
          "text": [
            "First 5 labels of the training set should look like this:\n",
            "[[1]\n",
            " [0]\n",
            " [1]\n",
            " [0]\n",
            " [0]]\n",
            "\n",
            "First 5 labels of the validation set should look like this:\n",
            "[[0]\n",
            " [1]\n",
            " [0]\n",
            " [1]\n",
            " [1]]\n",
            "\n",
            "Tokenized labels of the training set have shape: (463, 1)\n",
            "\n",
            "Tokenized labels of the validation set have shape: (116, 1)\n",
            "\n"
          ]
        }
      ],
      "source": [
        "train_label_seq = tokenize_labels(labels, train_labels)\n",
        "val_label_seq = tokenize_labels(labels, val_labels)\n",
        "\n",
        "print(f\"First 5 labels of the training set should look like this:\\n{train_label_seq[:5]}\\n\")\n",
        "print(f\"First 5 labels of the validation set should look like this:\\n{val_label_seq[:5]}\\n\")\n",
        "print(f\"Tokenized labels of the training set have shape: {train_label_seq.shape}\\n\")\n",
        "print(f\"Tokenized labels of the validation set have shape: {val_label_seq.shape}\\n\")"
      ]
    },
    {
      "cell_type": "code",
      "execution_count": null,
      "metadata": {
        "id": "_559gt9MhijA",
        "outputId": "cc344dbd-5917-4de9-8334-7f957b6b3246",
        "colab": {
          "base_uri": "https://localhost:8080/"
        }
      },
      "outputs": [
        {
          "output_type": "execute_result",
          "data": {
            "text/plain": [
              "2"
            ]
          },
          "metadata": {},
          "execution_count": 22
        }
      ],
      "source": [
        "len(np.unique(labels, return_counts=True)[0])"
      ]
    },
    {
      "cell_type": "code",
      "execution_count": null,
      "metadata": {
        "id": "OmDCGD0chijA"
      },
      "outputs": [],
      "source": [
        "def create_model(num_words, embedding_dim, maxlen):\n",
        "\n",
        "    tf.random.set_seed(123)\n",
        "\n",
        "    model = tf.keras.Sequential([\n",
        "        tf.keras.layers.Embedding(num_words, embedding_dim, input_length=maxlen),\n",
        "        tf.keras.layers.Conv1D(32, 1, activation='relu'),\n",
        "        tf.keras.layers.GlobalAveragePooling1D(),\n",
        "        tf.keras.layers.Dense(24, activation='relu'),\n",
        "        tf.keras.layers.Dropout(0.9),\n",
        "        tf.keras.layers.Dense(1, activation='sigmoid')\n",
        "    ])\n",
        "    model.compile(loss='binary_crossentropy',optimizer='adam',metrics=['accuracy'])\n",
        "\n",
        "    return model\n"
      ]
    },
    {
      "cell_type": "code",
      "execution_count": null,
      "metadata": {
        "id": "MEwUBUtfhijA",
        "outputId": "751e9e29-d3d9-4a47-ba67-8c8a9f4ba791",
        "colab": {
          "base_uri": "https://localhost:8080/"
        }
      },
      "outputs": [
        {
          "output_type": "stream",
          "name": "stdout",
          "text": [
            "Epoch 1/50\n",
            "15/15 [==============================] - 2s 24ms/step - loss: 0.6912 - accuracy: 0.5464 - val_loss: 0.6894 - val_accuracy: 0.5690\n",
            "Epoch 2/50\n",
            "15/15 [==============================] - 0s 10ms/step - loss: 0.6916 - accuracy: 0.5659 - val_loss: 0.6880 - val_accuracy: 0.5690\n",
            "Epoch 3/50\n",
            "15/15 [==============================] - 0s 9ms/step - loss: 0.6878 - accuracy: 0.5659 - val_loss: 0.6871 - val_accuracy: 0.5690\n",
            "Epoch 4/50\n",
            "15/15 [==============================] - 0s 9ms/step - loss: 0.6860 - accuracy: 0.5659 - val_loss: 0.6853 - val_accuracy: 0.5690\n",
            "Epoch 5/50\n",
            "15/15 [==============================] - 0s 8ms/step - loss: 0.6858 - accuracy: 0.5659 - val_loss: 0.6841 - val_accuracy: 0.5690\n",
            "Epoch 6/50\n",
            "15/15 [==============================] - 0s 9ms/step - loss: 0.6880 - accuracy: 0.5659 - val_loss: 0.6837 - val_accuracy: 0.5690\n",
            "Epoch 7/50\n",
            "15/15 [==============================] - 0s 16ms/step - loss: 0.6862 - accuracy: 0.5659 - val_loss: 0.6830 - val_accuracy: 0.5690\n",
            "Epoch 8/50\n",
            "15/15 [==============================] - 0s 13ms/step - loss: 0.6862 - accuracy: 0.5659 - val_loss: 0.6823 - val_accuracy: 0.5690\n",
            "Epoch 9/50\n",
            "15/15 [==============================] - 0s 13ms/step - loss: 0.6850 - accuracy: 0.5659 - val_loss: 0.6824 - val_accuracy: 0.5690\n",
            "Epoch 10/50\n",
            "15/15 [==============================] - 0s 14ms/step - loss: 0.6805 - accuracy: 0.5702 - val_loss: 0.6805 - val_accuracy: 0.5690\n",
            "Epoch 11/50\n",
            "15/15 [==============================] - 0s 12ms/step - loss: 0.6793 - accuracy: 0.5680 - val_loss: 0.6785 - val_accuracy: 0.5690\n",
            "Epoch 12/50\n",
            "15/15 [==============================] - 0s 13ms/step - loss: 0.6811 - accuracy: 0.5659 - val_loss: 0.6767 - val_accuracy: 0.5690\n",
            "Epoch 13/50\n",
            "15/15 [==============================] - 0s 14ms/step - loss: 0.6770 - accuracy: 0.5745 - val_loss: 0.6742 - val_accuracy: 0.5862\n",
            "Epoch 14/50\n",
            "15/15 [==============================] - 0s 12ms/step - loss: 0.6719 - accuracy: 0.6004 - val_loss: 0.6715 - val_accuracy: 0.5862\n",
            "Epoch 15/50\n",
            "15/15 [==============================] - 0s 13ms/step - loss: 0.6640 - accuracy: 0.5896 - val_loss: 0.6643 - val_accuracy: 0.5862\n",
            "Epoch 16/50\n",
            "15/15 [==============================] - 0s 14ms/step - loss: 0.6610 - accuracy: 0.6048 - val_loss: 0.6597 - val_accuracy: 0.6121\n",
            "Epoch 17/50\n",
            "15/15 [==============================] - 0s 13ms/step - loss: 0.6556 - accuracy: 0.6307 - val_loss: 0.6561 - val_accuracy: 0.6207\n",
            "Epoch 18/50\n",
            "15/15 [==============================] - 0s 14ms/step - loss: 0.6449 - accuracy: 0.6436 - val_loss: 0.6463 - val_accuracy: 0.6207\n",
            "Epoch 19/50\n",
            "15/15 [==============================] - 0s 14ms/step - loss: 0.6320 - accuracy: 0.6695 - val_loss: 0.6368 - val_accuracy: 0.6379\n",
            "Epoch 20/50\n",
            "15/15 [==============================] - 0s 14ms/step - loss: 0.6211 - accuracy: 0.6631 - val_loss: 0.6258 - val_accuracy: 0.6724\n",
            "Epoch 21/50\n",
            "15/15 [==============================] - 0s 11ms/step - loss: 0.6066 - accuracy: 0.6976 - val_loss: 0.6126 - val_accuracy: 0.6638\n",
            "Epoch 22/50\n",
            "15/15 [==============================] - 0s 9ms/step - loss: 0.5958 - accuracy: 0.7041 - val_loss: 0.5996 - val_accuracy: 0.7069\n",
            "Epoch 23/50\n",
            "15/15 [==============================] - 0s 9ms/step - loss: 0.5717 - accuracy: 0.6998 - val_loss: 0.5803 - val_accuracy: 0.7069\n",
            "Epoch 24/50\n",
            "15/15 [==============================] - 0s 9ms/step - loss: 0.5530 - accuracy: 0.7343 - val_loss: 0.5617 - val_accuracy: 0.7414\n",
            "Epoch 25/50\n",
            "15/15 [==============================] - 0s 9ms/step - loss: 0.5301 - accuracy: 0.7387 - val_loss: 0.5400 - val_accuracy: 0.7586\n",
            "Epoch 26/50\n",
            "15/15 [==============================] - 0s 10ms/step - loss: 0.4995 - accuracy: 0.7883 - val_loss: 0.5170 - val_accuracy: 0.7586\n",
            "Epoch 27/50\n",
            "15/15 [==============================] - 0s 9ms/step - loss: 0.4974 - accuracy: 0.7732 - val_loss: 0.4939 - val_accuracy: 0.8362\n",
            "Epoch 28/50\n",
            "15/15 [==============================] - 0s 9ms/step - loss: 0.4716 - accuracy: 0.7840 - val_loss: 0.4721 - val_accuracy: 0.8276\n",
            "Epoch 29/50\n",
            "15/15 [==============================] - 0s 9ms/step - loss: 0.4611 - accuracy: 0.7624 - val_loss: 0.4525 - val_accuracy: 0.8448\n",
            "Epoch 30/50\n",
            "15/15 [==============================] - 0s 9ms/step - loss: 0.4203 - accuracy: 0.7948 - val_loss: 0.4317 - val_accuracy: 0.8448\n",
            "Epoch 31/50\n",
            "15/15 [==============================] - 0s 9ms/step - loss: 0.3871 - accuracy: 0.8229 - val_loss: 0.4100 - val_accuracy: 0.8448\n",
            "Epoch 32/50\n",
            "15/15 [==============================] - 0s 9ms/step - loss: 0.3750 - accuracy: 0.8143 - val_loss: 0.3893 - val_accuracy: 0.8793\n",
            "Epoch 33/50\n",
            "15/15 [==============================] - 0s 10ms/step - loss: 0.3628 - accuracy: 0.8035 - val_loss: 0.3758 - val_accuracy: 0.8448\n",
            "Epoch 34/50\n",
            "15/15 [==============================] - 0s 8ms/step - loss: 0.3647 - accuracy: 0.8099 - val_loss: 0.3589 - val_accuracy: 0.8879\n",
            "Epoch 35/50\n",
            "15/15 [==============================] - 0s 10ms/step - loss: 0.3243 - accuracy: 0.8531 - val_loss: 0.3440 - val_accuracy: 0.8793\n",
            "Epoch 36/50\n",
            "15/15 [==============================] - 0s 8ms/step - loss: 0.3220 - accuracy: 0.8531 - val_loss: 0.3352 - val_accuracy: 0.8448\n",
            "Epoch 37/50\n",
            "15/15 [==============================] - 0s 9ms/step - loss: 0.3320 - accuracy: 0.8207 - val_loss: 0.3172 - val_accuracy: 0.9052\n",
            "Epoch 38/50\n",
            "15/15 [==============================] - 0s 10ms/step - loss: 0.3014 - accuracy: 0.8294 - val_loss: 0.3066 - val_accuracy: 0.8793\n",
            "Epoch 39/50\n",
            "15/15 [==============================] - 0s 9ms/step - loss: 0.2968 - accuracy: 0.8467 - val_loss: 0.2990 - val_accuracy: 0.8707\n",
            "Epoch 40/50\n",
            "15/15 [==============================] - 0s 10ms/step - loss: 0.2692 - accuracy: 0.8575 - val_loss: 0.2868 - val_accuracy: 0.8793\n",
            "Epoch 41/50\n",
            "15/15 [==============================] - 0s 8ms/step - loss: 0.2951 - accuracy: 0.7927 - val_loss: 0.2863 - val_accuracy: 0.8707\n",
            "Epoch 42/50\n",
            "15/15 [==============================] - 0s 9ms/step - loss: 0.2719 - accuracy: 0.8294 - val_loss: 0.2720 - val_accuracy: 0.8707\n",
            "Epoch 43/50\n",
            "15/15 [==============================] - 0s 9ms/step - loss: 0.2590 - accuracy: 0.8445 - val_loss: 0.2629 - val_accuracy: 0.9138\n",
            "Epoch 44/50\n",
            "15/15 [==============================] - 0s 9ms/step - loss: 0.2648 - accuracy: 0.8380 - val_loss: 0.2611 - val_accuracy: 0.8707\n",
            "Epoch 45/50\n",
            "15/15 [==============================] - 0s 9ms/step - loss: 0.2736 - accuracy: 0.8402 - val_loss: 0.2583 - val_accuracy: 0.8707\n",
            "Epoch 46/50\n",
            "15/15 [==============================] - 0s 9ms/step - loss: 0.2566 - accuracy: 0.8510 - val_loss: 0.2512 - val_accuracy: 0.8707\n",
            "Epoch 47/50\n",
            "15/15 [==============================] - 0s 9ms/step - loss: 0.2573 - accuracy: 0.8402 - val_loss: 0.2467 - val_accuracy: 0.8707\n",
            "Epoch 48/50\n",
            "15/15 [==============================] - 0s 9ms/step - loss: 0.2052 - accuracy: 0.8812 - val_loss: 0.2410 - val_accuracy: 0.8707\n",
            "Epoch 49/50\n",
            "15/15 [==============================] - 0s 9ms/step - loss: 0.2327 - accuracy: 0.8575 - val_loss: 0.2404 - val_accuracy: 0.8707\n",
            "Epoch 50/50\n",
            "15/15 [==============================] - 0s 10ms/step - loss: 0.2315 - accuracy: 0.8575 - val_loss: 0.2313 - val_accuracy: 0.9052\n"
          ]
        }
      ],
      "source": [
        "model = create_model(NUM_WORDS, EMBEDDING_DIM, MAXLEN)\n",
        "\n",
        "history = model.fit(train_padded_seq, train_label_seq, epochs=50, validation_data=(val_padded_seq, val_label_seq))"
      ]
    },
    {
      "cell_type": "code",
      "execution_count": null,
      "metadata": {
        "id": "fiTKsXiehijA",
        "outputId": "f748a0f4-df4d-4b55-e00b-daab0aa030da",
        "colab": {
          "base_uri": "https://localhost:8080/",
          "height": 881
        }
      },
      "outputs": [
        {
          "output_type": "display_data",
          "data": {
            "text/plain": [
              "<Figure size 640x480 with 1 Axes>"
            ],
            "image/png": "[encoded data removed]"
          },
          "metadata": {}
        },
        {
          "output_type": "display_data",
          "data": {
            "text/plain": [
              "<Figure size 640x480 with 1 Axes>"
            ],
            "image/png": "[encoded data removed]"
          },
          "metadata": {}
        }
      ],
      "source": [
        "def plot_graphs(history, metric):\n",
        "    plt.plot(history.history[metric])\n",
        "    plt.plot(history.history[f'val_{metric}'])\n",
        "    plt.xlabel(\"Epochs\")\n",
        "    plt.ylabel(metric)\n",
        "    plt.legend([metric, f'val_{metric}'])\n",
        "    plt.show()\n",
        "\n",
        "plot_graphs(history, \"accuracy\")\n",
        "plot_graphs(history, \"loss\")"
      ]
    },
    {
      "cell_type": "code",
      "execution_count": null,
      "metadata": {
        "id": "48XZTVxLhijA",
        "outputId": "a013c810-8ef1-4304-976a-392a91b83156",
        "colab": {
          "base_uri": "https://localhost:8080/"
        }
      },
      "outputs": [
        {
          "output_type": "stream",
          "name": "stdout",
          "text": [
            "ketik yutubu komen disinigeek faam cacat\n",
            "1/1 [==============================] - 0s 100ms/step\n",
            "[[0.09415697]]\n",
            "cah ML pasti\n"
          ]
        }
      ],
      "source": [
        "input_text = input(\"ketik yutubu komen disini\")\n",
        "input_seq = tokenizer.texts_to_sequences([input_text])\n",
        "input_padded = pad_sequences(input_seq, padding=PADDING, maxlen=MAXLEN)\n",
        "prediction = model.predict(input_padded)\n",
        "\n",
        "print(prediction)\n",
        "\n",
        "if prediction >= 0.5:\n",
        "    print(\"bukan player ML\")\n",
        "else:\n",
        "    print(\"cah ML pasti\")\n"
      ]
    }
  ],
  "metadata": {
    "kernelspec": {
      "display_name": "tf",
      "language": "python",
      "name": "python3"
    },
    "language_info": {
      "codemirror_mode": {
        "name": "ipython",
        "version": 3
      },
      "file_extension": ".py",
      "mimetype": "text/x-python",
      "name": "python",
      "nbconvert_exporter": "python",
      "pygments_lexer": "ipython3",
      "version": "3.9.18"
    },
    "colab": {
      "provenance": []
    }
  },
  "nbformat": 4,
  "nbformat_minor": 0
}