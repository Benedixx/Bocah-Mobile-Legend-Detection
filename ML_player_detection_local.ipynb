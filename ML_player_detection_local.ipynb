{
  "cells": [
    {
      "cell_type": "code",
      "execution_count": 1,
      "metadata": {
        "id": "VefVoTZ2hii6"
      },
      "outputs": [],
      "source": [
        "import io\n",
        "import csv\n",
        "import tensorflow as tf\n",
        "import numpy as np\n",
        "from tensorflow.keras.preprocessing.text import Tokenizer\n",
        "from tensorflow.keras.preprocessing.sequence import pad_sequences\n",
        "import matplotlib.pyplot as plt"
      ]
    },
    {
      "cell_type": "code",
      "execution_count": 2,
      "metadata": {
        "colab": {
          "base_uri": "https://localhost:8080/"
        },
        "id": "TvFLradIhii7",
        "outputId": "ae44020b-aebb-4c1d-a75d-fb84f1ff62bd"
      },
      "outputs": [
        {
          "name": "stdout",
          "output_type": "stream",
          "text": [
            "First line (header) looks like this:\n",
            "\n",
            "﻿Target,Comment\n",
            "\n",
            "Each data point looks like this:\n",
            "\n",
            "0,Tetap bang nabubuy bakal ngantongin SMG\n",
            "\n"
          ]
        }
      ],
      "source": [
        "with open(\"./dataset.csv\", 'r') as csvfile:\n",
        "    print(f\"First line (header) looks like this:\\n\\n{csvfile.readline()}\")\n",
        "    print(f\"Each data point looks like this:\\n\\n{csvfile.readline()}\")"
      ]
    },
    {
      "cell_type": "code",
      "execution_count": 3,
      "metadata": {
        "id": "mU83DdAKhii8"
      },
      "outputs": [],
      "source": [
        "NUM_WORDS = 1000\n",
        "EMBEDDING_DIM = 16\n",
        "MAXLEN = 120\n",
        "PADDING = 'post'\n",
        "OOV_TOKEN = \"<OOV>\"\n",
        "TRAINING_SPLIT = .8"
      ]
    },
    {
      "cell_type": "code",
      "execution_count": 4,
      "metadata": {
        "id": "C_Y6CpWihii8"
      },
      "outputs": [],
      "source": [
        "import nltk\n",
        "from nltk.corpus import stopwords\n",
        "\n",
        "def remove_stopwords(text):\n",
        "\tstop_words = stopwords.words('indonesian')\n",
        "\n",
        "\timp_words = []\n",
        "\n",
        "\tfor word in str(text).split():\n",
        "\t\tword = word.lower()\n",
        "\n",
        "\t\tif word not in stop_words:\n",
        "\t\t\timp_words.append(word)\n",
        "\n",
        "\toutput = \" \".join(imp_words)\n",
        "\n",
        "\treturn output"
      ]
    },
    {
      "cell_type": "code",
      "execution_count": 5,
      "metadata": {
        "id": "ny1FmXJwhii9"
      },
      "outputs": [],
      "source": [
        "def parse_data_from_file(filename):\n",
        "    sentences = []\n",
        "    labels = []\n",
        "    with open(filename, 'r') as csvfile:\n",
        "        reader = csv.reader(csvfile, delimiter=',')\n",
        "        next(reader)\n",
        "        for row in reader:\n",
        "            labels.append(row[0])\n",
        "            sentence = row[1]\n",
        "            sentence = remove_stopwords(sentence)\n",
        "            sentences.append(sentence)\n",
        "\n",
        "    return sentences, labels"
      ]
    },
    {
      "cell_type": "code",
      "execution_count": 6,
      "metadata": {
        "colab": {
          "base_uri": "https://localhost:8080/"
        },
        "id": "ag4sKtezhii9",
        "outputId": "405a3f62-b7d5-4b31-c798-c5859b5e1d59"
      },
      "outputs": [
        {
          "name": "stderr",
          "output_type": "stream",
          "text": [
            "[nltk_data] Downloading package stopwords to C:\\Users\\ASUS TUF\n",
            "[nltk_data]     GAMING\\AppData\\Roaming\\nltk_data...\n",
            "[nltk_data]   Package stopwords is already up-to-date!\n"
          ]
        },
        {
          "name": "stdout",
          "output_type": "stream",
          "text": [
            "There are 579 sentences in the dataset.\n",
            "\n",
            "First sentence has 4 words (after removing stopwords).\n",
            "\n",
            "There are 579 labels in the dataset.\n",
            "\n",
            "The first 5 labels are ['0', '1', '0', '1', '1']\n"
          ]
        }
      ],
      "source": [
        "nltk.download('stopwords')\n",
        "sentences, labels = parse_data_from_file(\"./dataset.csv\")\n",
        "\n",
        "print(f\"There are {len(sentences)} sentences in the dataset.\\n\")\n",
        "print(f\"First sentence has {len(sentences[0].split())} words (after removing stopwords).\\n\")\n",
        "print(f\"There are {len(labels)} labels in the dataset.\\n\")\n",
        "print(f\"The first 5 labels are {labels[:5]}\")"
      ]
    },
    {
      "cell_type": "code",
      "execution_count": 7,
      "metadata": {
        "id": "q-QXen4Zhii9"
      },
      "outputs": [],
      "source": [
        "def train_val_split(sentences, labels, training_split):\n",
        "    train_size = int(len(sentences) * training_split)\n",
        "\n",
        "    train_sentences = sentences[:train_size]\n",
        "    train_labels = labels[:train_size]\n",
        "\n",
        "    validation_sentences = sentences[train_size:]\n",
        "    validation_labels = labels[train_size:]\n",
        "\n",
        "    return train_sentences, validation_sentences, train_labels, validation_labels"
      ]
    },
    {
      "cell_type": "code",
      "execution_count": 8,
      "metadata": {
        "colab": {
          "base_uri": "https://localhost:8080/"
        },
        "id": "ckL6Pf8rhii-",
        "outputId": "44c1d9f0-d1a1-463d-c642-56768e128ca2"
      },
      "outputs": [
        {
          "name": "stdout",
          "output_type": "stream",
          "text": [
            "There are 463 sentences for training.\n",
            "\n",
            "There are 463 labels for training.\n",
            "\n",
            "There are 116 sentences for validation.\n",
            "\n",
            "There are 116 labels for validation.\n"
          ]
        }
      ],
      "source": [
        "train_sentences, val_sentences, train_labels, val_labels = train_val_split(sentences, labels, TRAINING_SPLIT)\n",
        "\n",
        "print(f\"There are {len(train_sentences)} sentences for training.\\n\")\n",
        "print(f\"There are {len(train_labels)} labels for training.\\n\")\n",
        "print(f\"There are {len(val_sentences)} sentences for validation.\\n\")\n",
        "print(f\"There are {len(val_labels)} labels for validation.\")"
      ]
    },
    {
      "cell_type": "code",
      "execution_count": 9,
      "metadata": {
        "id": "sVUoFVoHhii-"
      },
      "outputs": [],
      "source": [
        "def fit_tokenizer(train_sentences, num_words, oov_token):\n",
        "\n",
        "    tokenizer = Tokenizer(num_words = num_words, oov_token = oov_token )\n",
        "\n",
        "    tokenizer.fit_on_texts(train_sentences)\n",
        "\n",
        "\n",
        "    return tokenizer"
      ]
    },
    {
      "cell_type": "code",
      "execution_count": 10,
      "metadata": {
        "colab": {
          "base_uri": "https://localhost:8080/"
        },
        "id": "JyFzHGdVhii_",
        "outputId": "028ab20e-6dcc-4607-b0bc-f027725a61ce"
      },
      "outputs": [
        {
          "name": "stdout",
          "output_type": "stream",
          "text": [
            "Vocabulary contains 948 words\n",
            "\n",
            "<OOV> token included in vocabulary\n"
          ]
        }
      ],
      "source": [
        "tokenizer = fit_tokenizer(train_sentences, NUM_WORDS, OOV_TOKEN)\n",
        "word_index = tokenizer.word_index\n",
        "\n",
        "print(f\"Vocabulary contains {len(word_index)} words\\n\")\n",
        "print(\"<OOV> token included in vocabulary\" if \"<OOV>\" in word_index else \"<OOV> token NOT included in vocabulary\")"
      ]
    },
    {
      "cell_type": "code",
      "execution_count": 11,
      "metadata": {
        "id": "r355aze_hii_"
      },
      "outputs": [],
      "source": [
        "def seq_and_pad(sentences, tokenizer, padding, maxlen):\n",
        "    sequences = tokenizer.texts_to_sequences(sentences)\n",
        "    padded_sequences = pad_sequences(sequences, padding = padding,maxlen = maxlen)\n",
        "    return padded_sequences"
      ]
    },
    {
      "cell_type": "code",
      "execution_count": 12,
      "metadata": {
        "colab": {
          "base_uri": "https://localhost:8080/"
        },
        "id": "FH8Zfl9Hhii_",
        "outputId": "c2c691b5-67ad-4d3d-ae39-d7bec665caf7"
      },
      "outputs": [
        {
          "name": "stdout",
          "output_type": "stream",
          "text": [
            "Padded training sequences have shape: (463, 120)\n",
            "\n",
            "Padded validation sequences have shape: (116, 120)\n"
          ]
        }
      ],
      "source": [
        "train_padded_seq = seq_and_pad(train_sentences, tokenizer, PADDING, MAXLEN)\n",
        "val_padded_seq = seq_and_pad(val_sentences, tokenizer, PADDING, MAXLEN)\n",
        "\n",
        "print(f\"Padded training sequences have shape: {train_padded_seq.shape}\\n\")\n",
        "print(f\"Padded validation sequences have shape: {val_padded_seq.shape}\")"
      ]
    },
    {
      "cell_type": "code",
      "execution_count": 13,
      "metadata": {
        "id": "uS8Tl_Wohii_"
      },
      "outputs": [],
      "source": [
        "def tokenize_labels(all_labels, split_labels):\n",
        "    sentences = []\n",
        "    for t in split_labels:\n",
        "        if t in all_labels:\n",
        "            sentences.append(t)\n",
        "\n",
        "    label_tokenizer = Tokenizer()\n",
        "\n",
        "    label_tokenizer.fit_on_texts(all_labels)\n",
        "\n",
        "    label_seq = np.array(label_tokenizer.texts_to_sequences(split_labels))\n",
        "    validation_label_seq = np.array(label_tokenizer.texts_to_sequences(split_labels))\n",
        "\n",
        "    label_seq_np =np.array([number - 1 for number in label_seq])\n",
        "\n",
        "\n",
        "    return label_seq_np"
      ]
    },
    {
      "cell_type": "code",
      "execution_count": 14,
      "metadata": {
        "colab": {
          "base_uri": "https://localhost:8080/"
        },
        "id": "oLKkNeqnhijA",
        "outputId": "b5e81866-cfe1-408d-e729-57f1dbe36d5e"
      },
      "outputs": [
        {
          "name": "stdout",
          "output_type": "stream",
          "text": [
            "First 5 labels of the training set should look like this:\n",
            "[[1]\n",
            " [0]\n",
            " [1]\n",
            " [0]\n",
            " [0]]\n",
            "\n",
            "First 5 labels of the validation set should look like this:\n",
            "[[0]\n",
            " [1]\n",
            " [0]\n",
            " [1]\n",
            " [1]]\n",
            "\n",
            "Tokenized labels of the training set have shape: (463, 1)\n",
            "\n",
            "Tokenized labels of the validation set have shape: (116, 1)\n",
            "\n"
          ]
        }
      ],
      "source": [
        "train_label_seq = tokenize_labels(labels, train_labels)\n",
        "val_label_seq = tokenize_labels(labels, val_labels)\n",
        "\n",
        "print(f\"First 5 labels of the training set should look like this:\\n{train_label_seq[:5]}\\n\")\n",
        "print(f\"First 5 labels of the validation set should look like this:\\n{val_label_seq[:5]}\\n\")\n",
        "print(f\"Tokenized labels of the training set have shape: {train_label_seq.shape}\\n\")\n",
        "print(f\"Tokenized labels of the validation set have shape: {val_label_seq.shape}\\n\")"
      ]
    },
    {
      "cell_type": "code",
      "execution_count": 15,
      "metadata": {
        "colab": {
          "base_uri": "https://localhost:8080/"
        },
        "id": "_559gt9MhijA",
        "outputId": "cc344dbd-5917-4de9-8334-7f957b6b3246"
      },
      "outputs": [
        {
          "data": {
            "text/plain": [
              "2"
            ]
          },
          "execution_count": 15,
          "metadata": {},
          "output_type": "execute_result"
        }
      ],
      "source": [
        "len(np.unique(labels, return_counts=True)[0])"
      ]
    },
    {
      "cell_type": "code",
      "execution_count": 26,
      "metadata": {
        "id": "OmDCGD0chijA"
      },
      "outputs": [],
      "source": [
        "def create_model(num_words, embedding_dim, maxlen):\n",
        "\n",
        "    tf.random.set_seed(123)\n",
        "\n",
        "    model = tf.keras.Sequential([\n",
        "        tf.keras.layers.Embedding(num_words, embedding_dim, input_length=maxlen),\n",
        "        tf.keras.layers.Conv1D(32, 1, activation='relu'),\n",
        "        tf.keras.layers.GlobalAveragePooling1D(),\n",
        "        tf.keras.layers.Dense(24, activation='relu'),\n",
        "        tf.keras.layers.Dropout(0.9),\n",
        "        tf.keras.layers.Dense(1, activation='sigmoid')\n",
        "    ])\n",
        "    model.compile(loss='binary_crossentropy',optimizer='adam',metrics=['accuracy'])\n",
        "\n",
        "    return model\n"
      ]
    },
    {
      "cell_type": "code",
      "execution_count": 27,
      "metadata": {
        "colab": {
          "base_uri": "https://localhost:8080/"
        },
        "id": "MEwUBUtfhijA",
        "outputId": "751e9e29-d3d9-4a47-ba67-8c8a9f4ba791"
      },
      "outputs": [
        {
          "name": "stdout",
          "output_type": "stream",
          "text": [
            "Epoch 1/50\n",
            "15/15 [==============================] - 1s 21ms/step - loss: 0.6918 - accuracy: 0.5097 - val_loss: 0.6900 - val_accuracy: 0.5690\n",
            "Epoch 2/50\n",
            "15/15 [==============================] - 0s 13ms/step - loss: 0.6929 - accuracy: 0.5486 - val_loss: 0.6889 - val_accuracy: 0.5690\n",
            "Epoch 3/50\n",
            "15/15 [==============================] - 0s 13ms/step - loss: 0.6917 - accuracy: 0.5616 - val_loss: 0.6886 - val_accuracy: 0.5690\n",
            "Epoch 4/50\n",
            "15/15 [==============================] - 0s 14ms/step - loss: 0.6895 - accuracy: 0.5702 - val_loss: 0.6878 - val_accuracy: 0.5690\n",
            "Epoch 5/50\n",
            "15/15 [==============================] - 0s 13ms/step - loss: 0.6849 - accuracy: 0.5659 - val_loss: 0.6866 - val_accuracy: 0.5690\n",
            "Epoch 6/50\n",
            "15/15 [==============================] - 0s 12ms/step - loss: 0.6882 - accuracy: 0.5659 - val_loss: 0.6851 - val_accuracy: 0.5690\n",
            "Epoch 7/50\n",
            "15/15 [==============================] - 0s 12ms/step - loss: 0.6889 - accuracy: 0.5659 - val_loss: 0.6848 - val_accuracy: 0.5690\n",
            "Epoch 8/50\n",
            "15/15 [==============================] - 0s 12ms/step - loss: 0.6849 - accuracy: 0.5659 - val_loss: 0.6841 - val_accuracy: 0.5690\n",
            "Epoch 9/50\n",
            "15/15 [==============================] - 0s 11ms/step - loss: 0.6815 - accuracy: 0.5659 - val_loss: 0.6832 - val_accuracy: 0.5690\n",
            "Epoch 10/50\n",
            "15/15 [==============================] - 0s 11ms/step - loss: 0.6867 - accuracy: 0.5680 - val_loss: 0.6825 - val_accuracy: 0.5690\n",
            "Epoch 11/50\n",
            "15/15 [==============================] - 0s 12ms/step - loss: 0.6836 - accuracy: 0.5702 - val_loss: 0.6821 - val_accuracy: 0.5690\n",
            "Epoch 12/50\n",
            "15/15 [==============================] - 0s 13ms/step - loss: 0.6791 - accuracy: 0.5745 - val_loss: 0.6802 - val_accuracy: 0.5690\n",
            "Epoch 13/50\n",
            "15/15 [==============================] - 0s 12ms/step - loss: 0.6807 - accuracy: 0.5659 - val_loss: 0.6781 - val_accuracy: 0.5690\n",
            "Epoch 14/50\n",
            "15/15 [==============================] - 0s 11ms/step - loss: 0.6781 - accuracy: 0.5810 - val_loss: 0.6761 - val_accuracy: 0.5690\n",
            "Epoch 15/50\n",
            "15/15 [==============================] - 0s 12ms/step - loss: 0.6715 - accuracy: 0.5745 - val_loss: 0.6725 - val_accuracy: 0.5690\n",
            "Epoch 16/50\n",
            "15/15 [==============================] - 0s 12ms/step - loss: 0.6684 - accuracy: 0.5983 - val_loss: 0.6692 - val_accuracy: 0.5862\n",
            "Epoch 17/50\n",
            "15/15 [==============================] - 0s 12ms/step - loss: 0.6682 - accuracy: 0.6069 - val_loss: 0.6651 - val_accuracy: 0.6034\n",
            "Epoch 18/50\n",
            "15/15 [==============================] - 0s 13ms/step - loss: 0.6584 - accuracy: 0.6371 - val_loss: 0.6604 - val_accuracy: 0.6207\n",
            "Epoch 19/50\n",
            "15/15 [==============================] - 0s 13ms/step - loss: 0.6460 - accuracy: 0.6868 - val_loss: 0.6523 - val_accuracy: 0.6724\n",
            "Epoch 20/50\n",
            "15/15 [==============================] - 0s 12ms/step - loss: 0.6379 - accuracy: 0.6458 - val_loss: 0.6382 - val_accuracy: 0.6207\n",
            "Epoch 21/50\n",
            "15/15 [==============================] - 0s 12ms/step - loss: 0.6249 - accuracy: 0.6998 - val_loss: 0.6255 - val_accuracy: 0.6638\n",
            "Epoch 22/50\n",
            "15/15 [==============================] - 0s 13ms/step - loss: 0.6033 - accuracy: 0.7279 - val_loss: 0.6097 - val_accuracy: 0.6810\n",
            "Epoch 23/50\n",
            "15/15 [==============================] - 0s 12ms/step - loss: 0.5909 - accuracy: 0.7538 - val_loss: 0.5912 - val_accuracy: 0.7155\n",
            "Epoch 24/50\n",
            "15/15 [==============================] - 0s 12ms/step - loss: 0.5564 - accuracy: 0.7840 - val_loss: 0.5706 - val_accuracy: 0.7759\n",
            "Epoch 25/50\n",
            "15/15 [==============================] - 0s 12ms/step - loss: 0.5564 - accuracy: 0.7559 - val_loss: 0.5482 - val_accuracy: 0.7845\n",
            "Epoch 26/50\n",
            "15/15 [==============================] - 0s 12ms/step - loss: 0.5120 - accuracy: 0.7775 - val_loss: 0.5260 - val_accuracy: 0.8017\n",
            "Epoch 27/50\n",
            "15/15 [==============================] - 0s 12ms/step - loss: 0.5008 - accuracy: 0.7732 - val_loss: 0.5021 - val_accuracy: 0.8276\n",
            "Epoch 28/50\n",
            "15/15 [==============================] - 0s 12ms/step - loss: 0.4725 - accuracy: 0.8143 - val_loss: 0.4790 - val_accuracy: 0.8621\n",
            "Epoch 29/50\n",
            "15/15 [==============================] - 0s 12ms/step - loss: 0.4484 - accuracy: 0.8186 - val_loss: 0.4567 - val_accuracy: 0.8534\n",
            "Epoch 30/50\n",
            "15/15 [==============================] - 0s 12ms/step - loss: 0.4253 - accuracy: 0.8207 - val_loss: 0.4366 - val_accuracy: 0.8534\n",
            "Epoch 31/50\n",
            "15/15 [==============================] - 0s 13ms/step - loss: 0.4327 - accuracy: 0.8164 - val_loss: 0.4173 - val_accuracy: 0.8534\n",
            "Epoch 32/50\n",
            "15/15 [==============================] - 0s 13ms/step - loss: 0.3948 - accuracy: 0.8251 - val_loss: 0.4004 - val_accuracy: 0.8621\n",
            "Epoch 33/50\n",
            "15/15 [==============================] - 0s 12ms/step - loss: 0.3832 - accuracy: 0.8251 - val_loss: 0.3848 - val_accuracy: 0.8621\n",
            "Epoch 34/50\n",
            "15/15 [==============================] - 0s 12ms/step - loss: 0.3820 - accuracy: 0.8315 - val_loss: 0.3719 - val_accuracy: 0.8534\n",
            "Epoch 35/50\n",
            "15/15 [==============================] - 0s 12ms/step - loss: 0.3661 - accuracy: 0.8467 - val_loss: 0.3574 - val_accuracy: 0.8534\n",
            "Epoch 36/50\n",
            "15/15 [==============================] - 0s 12ms/step - loss: 0.3455 - accuracy: 0.8315 - val_loss: 0.3443 - val_accuracy: 0.8534\n",
            "Epoch 37/50\n",
            "15/15 [==============================] - 0s 12ms/step - loss: 0.3474 - accuracy: 0.8488 - val_loss: 0.3332 - val_accuracy: 0.8707\n",
            "Epoch 38/50\n",
            "15/15 [==============================] - 0s 12ms/step - loss: 0.3362 - accuracy: 0.8337 - val_loss: 0.3229 - val_accuracy: 0.8707\n",
            "Epoch 39/50\n",
            "15/15 [==============================] - 0s 12ms/step - loss: 0.3327 - accuracy: 0.8618 - val_loss: 0.3135 - val_accuracy: 0.8707\n",
            "Epoch 40/50\n",
            "15/15 [==============================] - 0s 12ms/step - loss: 0.3124 - accuracy: 0.8510 - val_loss: 0.3034 - val_accuracy: 0.8707\n",
            "Epoch 41/50\n",
            "15/15 [==============================] - 0s 13ms/step - loss: 0.3141 - accuracy: 0.8402 - val_loss: 0.2946 - val_accuracy: 0.8707\n",
            "Epoch 42/50\n",
            "15/15 [==============================] - 0s 12ms/step - loss: 0.3161 - accuracy: 0.8510 - val_loss: 0.2868 - val_accuracy: 0.8707\n",
            "Epoch 43/50\n",
            "15/15 [==============================] - 0s 12ms/step - loss: 0.2942 - accuracy: 0.8661 - val_loss: 0.2803 - val_accuracy: 0.8707\n",
            "Epoch 44/50\n",
            "15/15 [==============================] - 0s 12ms/step - loss: 0.2965 - accuracy: 0.8618 - val_loss: 0.2741 - val_accuracy: 0.8707\n",
            "Epoch 45/50\n",
            "15/15 [==============================] - 0s 13ms/step - loss: 0.3124 - accuracy: 0.8445 - val_loss: 0.2674 - val_accuracy: 0.8793\n",
            "Epoch 46/50\n",
            "15/15 [==============================] - 0s 13ms/step - loss: 0.3020 - accuracy: 0.8488 - val_loss: 0.2616 - val_accuracy: 0.8793\n",
            "Epoch 47/50\n",
            "15/15 [==============================] - 0s 12ms/step - loss: 0.2577 - accuracy: 0.8683 - val_loss: 0.2559 - val_accuracy: 0.8707\n",
            "Epoch 48/50\n",
            "15/15 [==============================] - 0s 12ms/step - loss: 0.2779 - accuracy: 0.8618 - val_loss: 0.2516 - val_accuracy: 0.8793\n",
            "Epoch 49/50\n",
            "15/15 [==============================] - 0s 12ms/step - loss: 0.2920 - accuracy: 0.8618 - val_loss: 0.2478 - val_accuracy: 0.8707\n",
            "Epoch 50/50\n",
            "15/15 [==============================] - 0s 11ms/step - loss: 0.2717 - accuracy: 0.8639 - val_loss: 0.2445 - val_accuracy: 0.8707\n"
          ]
        }
      ],
      "source": [
        "model = create_model(NUM_WORDS, EMBEDDING_DIM, MAXLEN)\n",
        "\n",
        "history = model.fit(train_padded_seq, train_label_seq, epochs=50, validation_data=(val_padded_seq, val_label_seq))"
      ]
    },
    {
      "cell_type": "code",
      "execution_count": 28,
      "metadata": {
        "colab": {
          "base_uri": "https://localhost:8080/",
          "height": 881
        },
        "id": "fiTKsXiehijA",
        "outputId": "f748a0f4-df4d-4b55-e00b-daab0aa030da"
      },
      "outputs": [
        {
          "data": {
            "image/png": "[encoded data removed]",
            "text/plain": [
              "<Figure size 640x480 with 1 Axes>"
            ]
          },
          "metadata": {},
          "output_type": "display_data"
        },
        {
          "data": {
            "image/png": "[encoded data removed]",
            "text/plain": [
              "<Figure size 640x480 with 1 Axes>"
            ]
          },
          "metadata": {},
          "output_type": "display_data"
        }
      ],
      "source": [
        "def plot_graphs(history, metric):\n",
        "    plt.plot(history.history[metric])\n",
        "    plt.plot(history.history[f'val_{metric}'])\n",
        "    plt.xlabel(\"Epochs\")\n",
        "    plt.ylabel(metric)\n",
        "    plt.legend([metric, f'val_{metric}'])\n",
        "    plt.show()\n",
        "\n",
        "plot_graphs(history, \"accuracy\")\n",
        "plot_graphs(history, \"loss\")"
      ]
    },
    {
      "cell_type": "code",
      "execution_count": 30,
      "metadata": {
        "colab": {
          "base_uri": "https://localhost:8080/"
        },
        "id": "48XZTVxLhijA",
        "outputId": "a013c810-8ef1-4304-976a-392a91b83156"
      },
      "outputs": [
        {
          "name": "stdout",
          "output_type": "stream",
          "text": [
            "[[0.8318436]]\n",
            "input text nya :  kawal banner raiden\n",
            "bukan player ML\n"
          ]
        }
      ],
      "source": [
        "input_text = input(\"ketik yutubu komen disini \")\n",
        "input_seq = tokenizer.texts_to_sequences([input_text])\n",
        "input_padded = pad_sequences(input_seq, padding=PADDING, maxlen=MAXLEN)\n",
        "prediction = model.predict(input_padded)\n",
        "\n",
        "print(prediction)\n",
        "\n",
        "if prediction >= 0.5:\n",
        "    print(\"input text nya : \",input_text)\n",
        "    print(\"bukan player ML\")\n",
        "else:\n",
        "    print(\"input text nya : \",input_text)\n",
        "    print(\"cah ML pasti\")\n"
      ]
    }
  ],
  "metadata": {
    "colab": {
      "provenance": []
    },
    "kernelspec": {
      "display_name": "tf",
      "language": "python",
      "name": "python3"
    },
    "language_info": {
      "codemirror_mode": {
        "name": "ipython",
        "version": 3
      },
      "file_extension": ".py",
      "mimetype": "text/x-python",
      "name": "python",
      "nbconvert_exporter": "python",
      "pygments_lexer": "ipython3",
      "version": "3.9.18"
    }
  },
  "nbformat": 4,
  "nbformat_minor": 0
}
